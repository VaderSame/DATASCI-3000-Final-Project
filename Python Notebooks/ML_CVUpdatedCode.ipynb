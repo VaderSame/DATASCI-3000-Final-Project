{
 "cells": [
  {
   "cell_type": "code",
   "execution_count": 1,
   "id": "7d876dbb-6102-4cbe-bd56-dc88d38adebc",
   "metadata": {},
   "outputs": [],
   "source": [
    "import numpy as np\n",
    "import pandas as pd\n",
    "import matplotlib.pyplot as plt\n",
    "import seaborn as sns\n",
    "from imblearn.metrics import geometric_mean_score\n",
    "import warnings\n",
    "warnings.filterwarnings('ignore')"
   ]
  },
  {
   "cell_type": "markdown",
   "id": "6ce222d3-7796-4075-8258-22153855d98c",
   "metadata": {},
   "source": [
    "# Install if not already installed\n",
    "!pip install xgboost\n",
    "!pip install catboost\n",
    "!pip install imbalanced-learn\n",
    "!pip install prettytable\n",
    "!pip install plotly"
   ]
  },
  {
   "cell_type": "code",
   "execution_count": 2,
   "id": "98fab40d-3fc8-4c28-b00f-84a5ad663371",
   "metadata": {},
   "outputs": [],
   "source": [
    "from sklearn.preprocessing import StandardScaler\n",
    "from sklearn.preprocessing import LabelEncoder\n",
    "from sklearn.tree import DecisionTreeClassifier\n",
    "from sklearn.ensemble import RandomForestClassifier\n",
    "from sklearn.svm import SVC\n",
    "from sklearn.ensemble import AdaBoostClassifier\n",
    "from sklearn.ensemble import GradientBoostingClassifier\n",
    "from sklearn.linear_model import LogisticRegression\n",
    "from sklearn.model_selection import train_test_split\n",
    "from sklearn.metrics import accuracy_score\n",
    "from xgboost import XGBClassifier\n",
    "from catboost import CatBoostClassifier\n",
    "from sklearn import metrics\n",
    "from sklearn.metrics import roc_curve\n",
    "from sklearn.metrics import recall_score, confusion_matrix, precision_score, f1_score, accuracy_score, classification_report\n",
    "from sklearn.model_selection import cross_val_score, StratifiedKFold\n",
    "from sklearn.metrics import roc_auc_score, precision_score, recall_score, f1_score\n",
    "from sklearn.metrics import balanced_accuracy_score, make_scorer\n",
    "from imblearn.metrics import geometric_mean_score"
   ]
  },
  {
   "cell_type": "markdown",
   "id": "1241c141-1ddf-4cad-a650-003232646d8b",
   "metadata": {},
   "source": [
    "# Import Dataset"
   ]
  },
  {
   "cell_type": "code",
   "execution_count": 3,
   "id": "4f5e616a-3e76-438c-bd1f-74125db0de6c",
   "metadata": {},
   "outputs": [],
   "source": [
    "data = pd.read_csv('Customer Churn Dataset.csv')"
   ]
  },
  {
   "cell_type": "markdown",
   "id": "f726cdcd-5c00-4ddd-81d2-6890edf92061",
   "metadata": {},
   "source": [
    "# Data Preprocessing"
   ]
  },
  {
   "cell_type": "code",
   "execution_count": 4,
   "id": "6bc37116-2042-4282-bc34-ee1493ca56ad",
   "metadata": {},
   "outputs": [],
   "source": [
    "data[\"TotalCharges\"] = data[\"TotalCharges\"].replace(\" \",\"0\")\n",
    "data[\"TotalCharges\"] = data[\"TotalCharges\"].astype(\"float\")\n",
    "data = data.drop(['customerID'], axis=1)\n",
    "data[data['tenure'] == 0].index\n",
    "data.drop(labels=data[data['tenure'] == 0].index, axis=0, inplace=True)\n",
    "data[data['tenure'] == 0].index\n",
    "data.fillna(data[\"TotalCharges\"].mean())\n",
    "data[\"SeniorCitizen\"]= data[\"SeniorCitizen\"].map({0: \"No\", 1: \"Yes\"})"
   ]
  },
  {
   "cell_type": "code",
   "execution_count": 5,
   "id": "60305a94-c766-4b22-a6aa-63d41262af46",
   "metadata": {},
   "outputs": [],
   "source": [
    "def object_to_int(dataframe_series):\n",
    "    if dataframe_series.dtype=='object':\n",
    "        dataframe_series = LabelEncoder().fit_transform(dataframe_series)\n",
    "    return dataframe_series"
   ]
  },
  {
   "cell_type": "code",
   "execution_count": 6,
   "id": "5e8c49f7-994a-457f-8a43-f6d37c9b26e7",
   "metadata": {},
   "outputs": [],
   "source": [
    "data = data.apply(lambda x: object_to_int(x))\n",
    "data = data.drop(['PhoneService','MonthlyCharges'], axis=1)"
   ]
  },
  {
   "cell_type": "code",
   "execution_count": 7,
   "id": "362f6107-ac22-49e1-9ab4-cf06bb5adc9d",
   "metadata": {},
   "outputs": [],
   "source": [
    "num_cols = [\"tenure\", 'TotalCharges']\n",
    "data_std = pd.DataFrame(StandardScaler().fit_transform(data[num_cols].astype('float64')),\n",
    "                       columns=num_cols)"
   ]
  },
  {
   "cell_type": "code",
   "execution_count": 8,
   "id": "446e3478-8e77-438b-8d85-2ea3b61e0a1d",
   "metadata": {},
   "outputs": [],
   "source": [
    "cat_cols_ohe =['PaymentMethod', 'Contract', 'InternetService'] # those that need one-hot encoding\n",
    "cat_cols_le = list(set(data.columns)- set(num_cols) - set(cat_cols_ohe)) #those that need label encoding"
   ]
  },
  {
   "cell_type": "code",
   "execution_count": 9,
   "id": "8d99f23c-507b-4a66-991a-d4952e8074e3",
   "metadata": {},
   "outputs": [],
   "source": [
    "scaler= StandardScaler()\n",
    "data[num_cols] = scaler.fit_transform(data_std[num_cols])"
   ]
  },
  {
   "cell_type": "code",
   "execution_count": 10,
   "id": "dfd8fa6b-ff57-4b4b-b684-86343413f577",
   "metadata": {},
   "outputs": [
    {
     "data": {
      "text/html": [
       "<div>\n",
       "<style scoped>\n",
       "    .dataframe tbody tr th:only-of-type {\n",
       "        vertical-align: middle;\n",
       "    }\n",
       "\n",
       "    .dataframe tbody tr th {\n",
       "        vertical-align: top;\n",
       "    }\n",
       "\n",
       "    .dataframe thead th {\n",
       "        text-align: right;\n",
       "    }\n",
       "</style>\n",
       "<table border=\"1\" class=\"dataframe\">\n",
       "  <thead>\n",
       "    <tr style=\"text-align: right;\">\n",
       "      <th></th>\n",
       "      <th>gender</th>\n",
       "      <th>SeniorCitizen</th>\n",
       "      <th>Partner</th>\n",
       "      <th>Dependents</th>\n",
       "      <th>tenure</th>\n",
       "      <th>MultipleLines</th>\n",
       "      <th>InternetService</th>\n",
       "      <th>OnlineSecurity</th>\n",
       "      <th>OnlineBackup</th>\n",
       "      <th>DeviceProtection</th>\n",
       "      <th>TechSupport</th>\n",
       "      <th>StreamingTV</th>\n",
       "      <th>StreamingMovies</th>\n",
       "      <th>Contract</th>\n",
       "      <th>PaperlessBilling</th>\n",
       "      <th>PaymentMethod</th>\n",
       "      <th>TotalCharges</th>\n",
       "      <th>Churn</th>\n",
       "    </tr>\n",
       "  </thead>\n",
       "  <tbody>\n",
       "    <tr>\n",
       "      <th>0</th>\n",
       "      <td>0</td>\n",
       "      <td>0</td>\n",
       "      <td>1</td>\n",
       "      <td>0</td>\n",
       "      <td>-1.280248</td>\n",
       "      <td>1</td>\n",
       "      <td>0</td>\n",
       "      <td>0</td>\n",
       "      <td>2</td>\n",
       "      <td>0</td>\n",
       "      <td>0</td>\n",
       "      <td>0</td>\n",
       "      <td>0</td>\n",
       "      <td>0</td>\n",
       "      <td>1</td>\n",
       "      <td>2</td>\n",
       "      <td>-0.994194</td>\n",
       "      <td>0</td>\n",
       "    </tr>\n",
       "    <tr>\n",
       "      <th>1</th>\n",
       "      <td>1</td>\n",
       "      <td>0</td>\n",
       "      <td>0</td>\n",
       "      <td>0</td>\n",
       "      <td>0.064303</td>\n",
       "      <td>0</td>\n",
       "      <td>0</td>\n",
       "      <td>2</td>\n",
       "      <td>0</td>\n",
       "      <td>2</td>\n",
       "      <td>0</td>\n",
       "      <td>0</td>\n",
       "      <td>0</td>\n",
       "      <td>1</td>\n",
       "      <td>0</td>\n",
       "      <td>3</td>\n",
       "      <td>-0.173740</td>\n",
       "      <td>0</td>\n",
       "    </tr>\n",
       "    <tr>\n",
       "      <th>2</th>\n",
       "      <td>1</td>\n",
       "      <td>0</td>\n",
       "      <td>0</td>\n",
       "      <td>0</td>\n",
       "      <td>-1.239504</td>\n",
       "      <td>0</td>\n",
       "      <td>0</td>\n",
       "      <td>2</td>\n",
       "      <td>2</td>\n",
       "      <td>0</td>\n",
       "      <td>0</td>\n",
       "      <td>0</td>\n",
       "      <td>0</td>\n",
       "      <td>0</td>\n",
       "      <td>1</td>\n",
       "      <td>3</td>\n",
       "      <td>-0.959649</td>\n",
       "      <td>1</td>\n",
       "    </tr>\n",
       "    <tr>\n",
       "      <th>3</th>\n",
       "      <td>1</td>\n",
       "      <td>0</td>\n",
       "      <td>0</td>\n",
       "      <td>0</td>\n",
       "      <td>0.512486</td>\n",
       "      <td>1</td>\n",
       "      <td>0</td>\n",
       "      <td>2</td>\n",
       "      <td>0</td>\n",
       "      <td>2</td>\n",
       "      <td>2</td>\n",
       "      <td>0</td>\n",
       "      <td>0</td>\n",
       "      <td>1</td>\n",
       "      <td>0</td>\n",
       "      <td>0</td>\n",
       "      <td>-0.195248</td>\n",
       "      <td>0</td>\n",
       "    </tr>\n",
       "    <tr>\n",
       "      <th>4</th>\n",
       "      <td>0</td>\n",
       "      <td>0</td>\n",
       "      <td>0</td>\n",
       "      <td>0</td>\n",
       "      <td>-1.239504</td>\n",
       "      <td>0</td>\n",
       "      <td>1</td>\n",
       "      <td>0</td>\n",
       "      <td>0</td>\n",
       "      <td>0</td>\n",
       "      <td>0</td>\n",
       "      <td>0</td>\n",
       "      <td>0</td>\n",
       "      <td>0</td>\n",
       "      <td>1</td>\n",
       "      <td>2</td>\n",
       "      <td>-0.940457</td>\n",
       "      <td>1</td>\n",
       "    </tr>\n",
       "  </tbody>\n",
       "</table>\n",
       "</div>"
      ],
      "text/plain": [
       "   gender  SeniorCitizen  Partner  Dependents    tenure  MultipleLines  \\\n",
       "0       0              0        1           0 -1.280248              1   \n",
       "1       1              0        0           0  0.064303              0   \n",
       "2       1              0        0           0 -1.239504              0   \n",
       "3       1              0        0           0  0.512486              1   \n",
       "4       0              0        0           0 -1.239504              0   \n",
       "\n",
       "   InternetService  OnlineSecurity  OnlineBackup  DeviceProtection  \\\n",
       "0                0               0             2                 0   \n",
       "1                0               2             0                 2   \n",
       "2                0               2             2                 0   \n",
       "3                0               2             0                 2   \n",
       "4                1               0             0                 0   \n",
       "\n",
       "   TechSupport  StreamingTV  StreamingMovies  Contract  PaperlessBilling  \\\n",
       "0            0            0                0         0                 1   \n",
       "1            0            0                0         1                 0   \n",
       "2            0            0                0         0                 1   \n",
       "3            2            0                0         1                 0   \n",
       "4            0            0                0         0                 1   \n",
       "\n",
       "   PaymentMethod  TotalCharges  Churn  \n",
       "0              2     -0.994194      0  \n",
       "1              3     -0.173740      0  \n",
       "2              3     -0.959649      1  \n",
       "3              0     -0.195248      0  \n",
       "4              2     -0.940457      1  "
      ]
     },
     "execution_count": 10,
     "metadata": {},
     "output_type": "execute_result"
    }
   ],
   "source": [
    "data.head()"
   ]
  },
  {
   "cell_type": "code",
   "execution_count": 11,
   "id": "06373dc0-e7f2-4d8c-8d3a-49f0550ad25e",
   "metadata": {},
   "outputs": [],
   "source": [
    "X = data.drop(columns=['Churn'])\n",
    "y = data['Churn']"
   ]
  },
  {
   "cell_type": "markdown",
   "id": "94c1907a-b4ba-4c64-9584-9df281dc8cc8",
   "metadata": {},
   "source": [
    "# Test-Train Split Before Cross Validation"
   ]
  },
  {
   "cell_type": "code",
   "execution_count": 12,
   "id": "6a4a0de4-bcdd-4009-8415-1ff70cd0938d",
   "metadata": {},
   "outputs": [],
   "source": [
    "# Separate the data into training and testing sets\n",
    "X_train, X_test, y_train, y_test = train_test_split(X, y, test_size=0.2, random_state=50)"
   ]
  },
  {
   "cell_type": "markdown",
   "id": "96c754b2-cbf7-495a-accd-dec2dabf08d4",
   "metadata": {},
   "source": [
    "# Logistic Regression Model (Using Cross Validation)"
   ]
  },
  {
   "cell_type": "code",
   "execution_count": 13,
   "id": "98cc25ac-1ac5-4fdc-a117-2d794352fc25",
   "metadata": {},
   "outputs": [],
   "source": [
    "# Logistic Regression model defintion\n",
    "model = LogisticRegression(class_weight='balanced', max_iter=1000, random_state=50)"
   ]
  },
  {
   "cell_type": "code",
   "execution_count": 14,
   "id": "11249023-c7a6-416a-863f-46c3565a93ec",
   "metadata": {},
   "outputs": [
    {
     "name": "stdout",
     "output_type": "stream",
     "text": [
      "\n",
      "Cross-Validation Metrics (Logistic Regression) :\n",
      "              Metric      Mean  Standard Deviation\n",
      "0                AUC  0.838211            0.018167\n",
      "1          Precision  0.493426            0.018771\n",
      "2             Recall  0.817862            0.025779\n",
      "3           F1 Score  0.615358            0.019731\n",
      "4  Balanced Accuracy  0.753108            0.017403\n",
      "5     Geometric Mean  0.750182            0.017143\n"
     ]
    }
   ],
   "source": [
    "import pandas as pd\n",
    "from sklearn.model_selection import StratifiedKFold\n",
    "from sklearn.metrics import roc_auc_score, precision_score, recall_score, f1_score, balanced_accuracy_score\n",
    "from imblearn.metrics import geometric_mean_score\n",
    "\n",
    "# Initialize Stratified K-Fold\n",
    "k = 10\n",
    "skf = StratifiedKFold(n_splits=k, shuffle=True, random_state=50)\n",
    "\n",
    "# Lists to store cross-validation metrics\n",
    "cv_auc, cv_precision, cv_recall, cv_f1, cv_balanced_acc, cv_gmean = [], [], [], [], [], []\n",
    "\n",
    "# Cross-validation loop\n",
    "for train_index, val_index in skf.split(X_train, y_train):\n",
    "    X_train_fold, X_val_fold = X_train.iloc[train_index], X_train.iloc[val_index]\n",
    "    y_train_fold, y_val_fold = y_train.iloc[train_index], y_train.iloc[val_index]\n",
    "    \n",
    "    # Train the model on the training fold\n",
    "    model.fit(X_train_fold, y_train_fold)\n",
    "    \n",
    "    # Predict on the validation fold\n",
    "    y_pred = model.predict(X_val_fold)\n",
    "    y_pred_proba = model.predict_proba(X_val_fold)[:, 1]\n",
    "    \n",
    "    # Compute metrics for the validation fold\n",
    "    cv_auc.append(roc_auc_score(y_val_fold, y_pred_proba))\n",
    "    cv_precision.append(precision_score(y_val_fold, y_pred))\n",
    "    cv_recall.append(recall_score(y_val_fold, y_pred))\n",
    "    cv_f1.append(f1_score(y_val_fold, y_pred))\n",
    "    cv_balanced_acc.append(balanced_accuracy_score(y_val_fold, y_pred))\n",
    "    cv_gmean.append(geometric_mean_score(y_val_fold, y_pred))\n",
    "\n",
    "# Compute mean and standard deviation of cross-validation metrics\n",
    "cv_results = {\n",
    "    \"Metric\": [\"AUC\", \"Precision\", \"Recall\", \"F1 Score\", \"Balanced Accuracy\", \"Geometric Mean\"],\n",
    "    \"Mean\": [\n",
    "        np.mean(cv_auc),\n",
    "        np.mean(cv_precision),\n",
    "        np.mean(cv_recall),\n",
    "        np.mean(cv_f1),\n",
    "        np.mean(cv_balanced_acc),\n",
    "        np.mean(cv_gmean),\n",
    "    ],\n",
    "    \"Standard Deviation\": [\n",
    "        np.std(cv_auc),\n",
    "        np.std(cv_precision),\n",
    "        np.std(cv_recall),\n",
    "        np.std(cv_f1),\n",
    "        np.std(cv_balanced_acc),\n",
    "        np.std(cv_gmean),\n",
    "    ],\n",
    "}\n",
    "\n",
    "# Create a DataFrame for the CV metrics\n",
    "cv_results_df = pd.DataFrame(cv_results)\n",
    "\n",
    "# Display the table\n",
    "print(\"\\nCross-Validation Metrics (Logistic Regression) :\")\n",
    "print(cv_results_df)"
   ]
  },
  {
   "cell_type": "code",
   "execution_count": 15,
   "id": "39d2d4fc-22fd-421c-83fd-4dbd64aa9637",
   "metadata": {},
   "outputs": [
    {
     "name": "stdout",
     "output_type": "stream",
     "text": [
      "\n",
      "Test Set Metrics:\n",
      "              Metric     Value\n",
      "0                AUC  0.834652\n",
      "1          Precision  0.457600\n",
      "2             Recall  0.821839\n",
      "3           F1 Score  0.587873\n",
      "4  Balanced Accuracy  0.750863\n",
      "5     Geometric Mean  0.747501\n"
     ]
    }
   ],
   "source": [
    "import pandas as pd\n",
    "\n",
    "# Train the model on the entire training set\n",
    "model.fit(X_train, y_train)\n",
    "\n",
    "# Predict on the test set\n",
    "y_test_pred = model.predict(X_test)\n",
    "y_test_pred_proba = model.predict_proba(X_test)[:, 1]\n",
    "\n",
    "# Compute metrics for the test set\n",
    "test_auc = roc_auc_score(y_test, y_test_pred_proba)\n",
    "test_precision = precision_score(y_test, y_test_pred)\n",
    "test_recall = recall_score(y_test, y_test_pred)\n",
    "test_f1 = f1_score(y_test, y_test_pred)\n",
    "test_balanced_acc = balanced_accuracy_score(y_test, y_test_pred)\n",
    "test_gmean = geometric_mean_score(y_test, y_test_pred)\n",
    "\n",
    "# Store the test metrics in a DataFrame\n",
    "test_results = {\n",
    "    \"Metric\": [\"AUC\", \"Precision\", \"Recall\", \"F1 Score\", \"Balanced Accuracy\", \"Geometric Mean\"],\n",
    "    \"Value\": [test_auc, test_precision, test_recall, test_f1, test_balanced_acc, test_gmean]\n",
    "}\n",
    "\n",
    "test_results_df = pd.DataFrame(test_results)\n",
    "\n",
    "# Display the table\n",
    "print(\"\\nTest Set Metrics:\")\n",
    "print(test_results_df)"
   ]
  },
  {
   "cell_type": "code",
   "execution_count": 16,
   "id": "d96686bb-c581-4403-975d-26ae2d7d32c8",
   "metadata": {},
   "outputs": [
    {
     "data": {
      "image/png": "[encoded data removed]",
      "text/plain": [
       "<Figure size 800x600 with 2 Axes>"
      ]
     },
     "metadata": {},
     "output_type": "display_data"
    }
   ],
   "source": [
    "# Compute the confusion matrix\n",
    "test_cm = confusion_matrix(y_test, y_test_pred)\n",
    "# Plot the confusion matrix with a blue theme\n",
    "plt.figure(figsize=(8, 6))\n",
    "sns.heatmap(test_cm, annot=True, fmt='d', cmap='Blues', xticklabels=['No Churn', 'Churn'], yticklabels=['No Churn', 'Churn'])\n",
    "plt.xlabel('Predicted Label')\n",
    "plt.ylabel('True Label')\n",
    "plt.title('Confusion Matrix (Logistic Regression Test Set)')\n",
    "plt.show()"
   ]
  },
  {
   "cell_type": "markdown",
   "id": "0a725edd-f49f-4679-a02f-607565395f99",
   "metadata": {},
   "source": [
    "# SVC using CV"
   ]
  },
  {
   "cell_type": "code",
   "execution_count": 17,
   "id": "9dee96d8-095e-4bb3-b159-65caea52f321",
   "metadata": {},
   "outputs": [],
   "source": [
    "from sklearn.svm import SVC\n",
    "\n",
    "# Initializing the SVC model with probability=True for AUC computation\n",
    "svc_model = SVC(kernel='linear', probability=True, class_weight='balanced', random_state=50)"
   ]
  },
  {
   "cell_type": "code",
   "execution_count": 18,
   "id": "7f1fb303-9c57-4b9b-8d37-d1e52578f183",
   "metadata": {},
   "outputs": [
    {
     "name": "stdout",
     "output_type": "stream",
     "text": [
      "\n",
      "Cross-Validation Metrics (SVC) :\n",
      "              Metric      Mean  Standard Deviation\n",
      "0                AUC  0.839199            0.017841\n",
      "1          Precision  0.471271            0.016597\n",
      "2             Recall  0.855998            0.025466\n",
      "3           F1 Score  0.607695            0.017496\n",
      "4  Balanced Accuracy  0.749759            0.016345\n",
      "5     Geometric Mean  0.741996            0.016334\n"
     ]
    }
   ],
   "source": [
    "# Initialize Stratified K-Fold\n",
    "k = 10\n",
    "skf = StratifiedKFold(n_splits=k, shuffle=True, random_state=50)\n",
    "\n",
    "# Lists to store cross-validation metrics\n",
    "svc_cv_auc, svc_cv_precision, svc_cv_recall, svc_cv_f1, svc_cv_balanced_acc, svc_cv_gmean = [], [], [], [], [], []\n",
    "\n",
    "# Cross-validation loop\n",
    "for train_index, val_index in skf.split(X_train, y_train):\n",
    "    X_train_fold, X_val_fold = X_train.iloc[train_index], X_train.iloc[val_index]\n",
    "    y_train_fold, y_val_fold = y_train.iloc[train_index], y_train.iloc[val_index]\n",
    "    \n",
    "    # Train the model on the training fold\n",
    "    svc_model.fit(X_train_fold, y_train_fold)\n",
    "    \n",
    "    # Predict on the validation fold\n",
    "    y_pred = svc_model.predict(X_val_fold)\n",
    "    y_pred_proba = svc_model.predict_proba(X_val_fold)[:, 1]\n",
    "    \n",
    "    # Compute metrics for the validation fold\n",
    "    svc_cv_auc.append(roc_auc_score(y_val_fold, y_pred_proba))\n",
    "    svc_cv_precision.append(precision_score(y_val_fold, y_pred))\n",
    "    svc_cv_recall.append(recall_score(y_val_fold, y_pred))\n",
    "    svc_cv_f1.append(f1_score(y_val_fold, y_pred))\n",
    "    svc_cv_balanced_acc.append(balanced_accuracy_score(y_val_fold, y_pred))\n",
    "    svc_cv_gmean.append(geometric_mean_score(y_val_fold, y_pred))\n",
    "\n",
    "# Compute mean and standard deviation of cross-validation metrics\n",
    "svc_cv_results = {\n",
    "    \"Metric\": [\"AUC\", \"Precision\", \"Recall\", \"F1 Score\", \"Balanced Accuracy\", \"Geometric Mean\"],\n",
    "    \"Mean\": [\n",
    "        np.mean(svc_cv_auc),\n",
    "        np.mean(svc_cv_precision),\n",
    "        np.mean(svc_cv_recall),\n",
    "        np.mean(svc_cv_f1),\n",
    "        np.mean(svc_cv_balanced_acc),\n",
    "        np.mean(svc_cv_gmean),\n",
    "    ],\n",
    "    \"Standard Deviation\": [\n",
    "        np.std(svc_cv_auc),\n",
    "        np.std(svc_cv_precision),\n",
    "        np.std(svc_cv_recall),\n",
    "        np.std(svc_cv_f1),\n",
    "        np.std(svc_cv_balanced_acc),\n",
    "        np.std(svc_cv_gmean),\n",
    "    ],\n",
    "}\n",
    "\n",
    "# Create a DataFrame for the CV metrics\n",
    "svc_cv_results_df = pd.DataFrame(svc_cv_results)\n",
    "\n",
    "# Display the table\n",
    "print(\"\\nCross-Validation Metrics (SVC) :\")\n",
    "print(svc_cv_results_df)"
   ]
  },
  {
   "cell_type": "code",
   "execution_count": 19,
   "id": "ca91d020-5a2c-42dc-88db-44541745a784",
   "metadata": {},
   "outputs": [
    {
     "name": "stdout",
     "output_type": "stream",
     "text": [
      "\n",
      "Test Set Metrics (SVC):\n",
      "              Metric     Value\n",
      "0                AUC  0.836830\n",
      "1          Precision  0.442308\n",
      "2             Recall  0.859195\n",
      "3           F1 Score  0.583984\n",
      "4  Balanced Accuracy  0.751600\n",
      "5     Geometric Mean  0.743858\n"
     ]
    }
   ],
   "source": [
    "# Train the model on the entire training set\n",
    "svc_model.fit(X_train, y_train)\n",
    "\n",
    "# Predict on the test set\n",
    "y_test_pred_svc = svc_model.predict(X_test)\n",
    "y_test_pred_proba_svc = svc_model.predict_proba(X_test)[:, 1]\n",
    "\n",
    "\n",
    "# Compute metrics for the test set\n",
    "svc_test_auc = roc_auc_score(y_test, y_test_pred_proba_svc)\n",
    "svc_test_precision = precision_score(y_test, y_test_pred_svc)\n",
    "svc_test_recall = recall_score(y_test, y_test_pred_svc)\n",
    "svc_test_f1 = f1_score(y_test, y_test_pred_svc)\n",
    "svc_test_balanced_acc = balanced_accuracy_score(y_test, y_test_pred_svc)\n",
    "svc_test_gmean = geometric_mean_score(y_test, y_test_pred_svc)\n",
    "\n",
    "# Store the test metrics in a DataFrame\n",
    "svc_test_results = {\n",
    "    \"Metric\": [\"AUC\", \"Precision\", \"Recall\", \"F1 Score\", \"Balanced Accuracy\", \"Geometric Mean\"],\n",
    "    \"Value\": [svc_test_auc, svc_test_precision, svc_test_recall, svc_test_f1, svc_test_balanced_acc, svc_test_gmean]\n",
    "}\n",
    "\n",
    "svc_test_results_df = pd.DataFrame(svc_test_results)\n",
    "\n",
    "\n",
    "# Display the table\n",
    "print(\"\\nTest Set Metrics (SVC):\")\n",
    "print(svc_test_results_df)"
   ]
  },
  {
   "cell_type": "code",
   "execution_count": 20,
   "id": "804fa1bf-3383-482b-9cb4-bf21e6cdab64",
   "metadata": {},
   "outputs": [
    {
     "data": {
      "image/png": "[encoded data removed]",
      "text/plain": [
       "<Figure size 800x600 with 2 Axes>"
      ]
     },
     "metadata": {},
     "output_type": "display_data"
    }
   ],
   "source": [
    "\n",
    "# Compute the confusion matrix\n",
    "svc_test_cm = confusion_matrix(y_test, y_test_pred_svc)\n",
    "\n",
    "# Plot the confusion matrix with a blue theme\n",
    "plt.figure(figsize=(8, 6))\n",
    "sns.heatmap(svc_test_cm, annot=True, fmt='d', cmap='Blues', xticklabels=['No Churn', 'Churn'], yticklabels=['No Churn', 'Churn'])\n",
    "plt.xlabel('Predicted Label')\n",
    "plt.ylabel('True Label')\n",
    "plt.title('Confusion Matrix (SVC Test Set)')\n",
    "plt.show()"
   ]
  },
  {
   "cell_type": "markdown",
   "id": "f2b2f232-4d27-4318-affc-dfe491f8bb00",
   "metadata": {},
   "source": [
    "# Random forest using CV"
   ]
  },
  {
   "cell_type": "code",
   "execution_count": 21,
   "id": "b45d9c0e-5d58-45a3-bb91-47decac3cb48",
   "metadata": {},
   "outputs": [],
   "source": [
    "from sklearn.ensemble import RandomForestClassifier\n",
    "\n",
    "# Initializing the Random Forest model\n",
    "rf_model = RandomForestClassifier(n_estimators=500, oob_score=True, n_jobs=-1,\n",
    "                                  random_state=50, max_features=\"sqrt\", \n",
    "                                  max_leaf_nodes=30)"
   ]
  },
  {
   "cell_type": "code",
   "execution_count": 22,
   "id": "447db302-6b0c-4eb6-b7c0-8a0032ffc851",
   "metadata": {},
   "outputs": [
    {
     "name": "stdout",
     "output_type": "stream",
     "text": [
      "\n",
      "Cross-Validation Metrics (Random Forest):\n",
      "              Metric      Mean  Standard Deviation\n",
      "0                AUC  0.844333            0.017977\n",
      "1          Precision  0.672314            0.043639\n",
      "2             Recall  0.460268            0.045863\n",
      "3           F1 Score  0.544962            0.039290\n",
      "4  Balanced Accuracy  0.688227            0.022308\n",
      "5     Geometric Mean  0.648429            0.032038\n"
     ]
    }
   ],
   "source": [
    "# Lists to store cross-validation metrics\n",
    "cv_auc, cv_precision, cv_recall, cv_f1, cv_balanced_acc, cv_gmean = [], [], [], [], [], []\n",
    "\n",
    "# Perform Stratified K-Fold Cross-Validation\n",
    "k = 10\n",
    "skf = StratifiedKFold(n_splits=k, shuffle=True, random_state=50)\n",
    "\n",
    "for train_index, val_index in skf.split(X_train, y_train):\n",
    "    X_train_fold, X_val_fold = X_train.iloc[train_index], X_train.iloc[val_index]\n",
    "    y_train_fold, y_val_fold = y_train.iloc[train_index], y_train.iloc[val_index]\n",
    "    \n",
    "    # Train the model on the training fold\n",
    "    rf_model.fit(X_train_fold, y_train_fold)\n",
    "    \n",
    "    # Predict on the validation fold\n",
    "    y_pred = rf_model.predict(X_val_fold)\n",
    "    y_pred_proba = rf_model.predict_proba(X_val_fold)[:, 1]\n",
    "    \n",
    "    # Compute metrics for the validation fold\n",
    "    cv_auc.append(roc_auc_score(y_val_fold, y_pred_proba))\n",
    "    cv_precision.append(precision_score(y_val_fold, y_pred))\n",
    "    cv_recall.append(recall_score(y_val_fold, y_pred))\n",
    "    cv_f1.append(f1_score(y_val_fold, y_pred))\n",
    "    cv_balanced_acc.append(balanced_accuracy_score(y_val_fold, y_pred))\n",
    "    cv_gmean.append(geometric_mean_score(y_val_fold, y_pred))\n",
    "\n",
    "# Compute mean and standard deviation of cross-validation metrics\n",
    "cv_results = {\n",
    "    \"Metric\": [\"AUC\", \"Precision\", \"Recall\", \"F1 Score\", \"Balanced Accuracy\", \"Geometric Mean\"],\n",
    "    \"Mean\": [\n",
    "        np.mean(cv_auc),\n",
    "        np.mean(cv_precision),\n",
    "        np.mean(cv_recall),\n",
    "        np.mean(cv_f1),\n",
    "        np.mean(cv_balanced_acc),\n",
    "        np.mean(cv_gmean),\n",
    "    ],\n",
    "    \"Standard Deviation\": [\n",
    "        np.std(cv_auc),\n",
    "        np.std(cv_precision),\n",
    "        np.std(cv_recall),\n",
    "        np.std(cv_f1),\n",
    "        np.std(cv_balanced_acc),\n",
    "        np.std(cv_gmean),\n",
    "    ],\n",
    "}\n",
    "\n",
    "# Create a DataFrame for the CV metrics\n",
    "rf_cv_results_df = pd.DataFrame(cv_results)\n",
    "\n",
    "# Display the table\n",
    "print(\"\\nCross-Validation Metrics (Random Forest):\")\n",
    "print(rf_cv_results_df)"
   ]
  },
  {
   "cell_type": "code",
   "execution_count": 23,
   "id": "285287c1-a4d1-4911-b51d-caa0cf3d7c77",
   "metadata": {},
   "outputs": [
    {
     "name": "stdout",
     "output_type": "stream",
     "text": [
      "\n",
      "Test Set Metrics (Random Forest):\n",
      "              Metric     Value\n",
      "0                AUC  0.839220\n",
      "1          Precision  0.650558\n",
      "2             Recall  0.502874\n",
      "3           F1 Score  0.567261\n",
      "4  Balanced Accuracy  0.707055\n",
      "5     Geometric Mean  0.676932\n"
     ]
    }
   ],
   "source": [
    "# Train the model on the entire training set\n",
    "rf_model.fit(X_train, y_train)\n",
    "\n",
    "# Predict on the test set\n",
    "y_test_pred = rf_model.predict(X_test)\n",
    "y_test_pred_proba = rf_model.predict_proba(X_test)[:, 1]\n",
    "\n",
    "# Compute metrics for the test set\n",
    "test_auc = roc_auc_score(y_test, y_test_pred_proba)\n",
    "test_precision = precision_score(y_test, y_test_pred)\n",
    "test_recall = recall_score(y_test, y_test_pred)\n",
    "test_f1 = f1_score(y_test, y_test_pred)\n",
    "test_balanced_acc = balanced_accuracy_score(y_test, y_test_pred)\n",
    "test_gmean = geometric_mean_score(y_test, y_test_pred)\n",
    "\n",
    "# Store the test metrics in a DataFrame\n",
    "test_results = {\n",
    "    \"Metric\": [\"AUC\", \"Precision\", \"Recall\", \"F1 Score\", \"Balanced Accuracy\", \"Geometric Mean\"],\n",
    "    \"Value\": [test_auc, test_precision, test_recall, test_f1, test_balanced_acc, test_gmean]\n",
    "}\n",
    "\n",
    "rf_test_results_df = pd.DataFrame(test_results)\n",
    "\n",
    "# Display the table\n",
    "print(\"\\nTest Set Metrics (Random Forest):\")\n",
    "print(rf_test_results_df)"
   ]
  },
  {
   "cell_type": "code",
   "execution_count": 24,
   "id": "c239f098-e9d0-4bfe-9b8b-4a87e93b85ab",
   "metadata": {},
   "outputs": [
    {
     "data": {
      "image/png": "[encoded data removed]",
      "text/plain": [
       "<Figure size 800x600 with 2 Axes>"
      ]
     },
     "metadata": {},
     "output_type": "display_data"
    }
   ],
   "source": [
    "# Compute the confusion matrix\n",
    "test_cm = confusion_matrix(y_test, y_test_pred)\n",
    "\n",
    "# Plot the confusion matrix with a blue theme\n",
    "plt.figure(figsize=(8, 6))\n",
    "sns.heatmap(test_cm, annot=True, fmt='d', cmap='Blues', xticklabels=['No Churn', 'Churn'], yticklabels=['No Churn', 'Churn'])\n",
    "plt.xlabel('Predicted Label')\n",
    "plt.ylabel('True Label')\n",
    "plt.title('Confusion Matrix (Random Forest Test Set)')\n",
    "plt.show()"
   ]
  },
  {
   "cell_type": "markdown",
   "id": "6c47e4f9-9591-49ef-934c-6c46c739c012",
   "metadata": {},
   "source": [
    "# CatBoost using CV"
   ]
  },
  {
   "cell_type": "code",
   "execution_count": 25,
   "id": "c8de8f79-19e6-4587-a33e-ce73fc072509",
   "metadata": {},
   "outputs": [],
   "source": [
    "from catboost import CatBoostClassifier\n",
    "\n",
    "# Initializing the CatBoost model\n",
    "catboost_model = CatBoostClassifier(\n",
    "    iterations=500, \n",
    "    depth=6, \n",
    "    learning_rate=0.1, \n",
    "    loss_function='Logloss', \n",
    "    verbose=0, \n",
    "    random_seed=50, \n",
    "    class_weights=[1, len(y_train) / sum(y_train)]  # Handling class imbalance\n",
    ")\n"
   ]
  },
  {
   "cell_type": "code",
   "execution_count": 26,
   "id": "e482ab7b-83b6-4768-9fcf-f54f46a7e5e0",
   "metadata": {},
   "outputs": [
    {
     "name": "stdout",
     "output_type": "stream",
     "text": [
      "\n",
      "Cross-Validation Metrics (CatBoost):\n",
      "              Metric      Mean  Standard Deviation\n",
      "0                AUC  0.825210            0.016024\n",
      "1          Precision  0.529257            0.031333\n",
      "2             Recall  0.728500            0.027226\n",
      "3           F1 Score  0.612802            0.028451\n",
      "4  Balanced Accuracy  0.743637            0.022676\n",
      "5     Geometric Mean  0.743354            0.022691\n"
     ]
    }
   ],
   "source": [
    "# Lists to store cross-validation metrics\n",
    "cv_auc, cv_precision, cv_recall, cv_f1, cv_balanced_acc, cv_gmean = [], [], [], [], [], []\n",
    "\n",
    "# Perform Stratified K-Fold Cross-Validation\n",
    "k = 10\n",
    "skf = StratifiedKFold(n_splits=k, shuffle=True, random_state=50)\n",
    "\n",
    "for train_index, val_index in skf.split(X_train, y_train):\n",
    "    X_train_fold, X_val_fold = X_train.iloc[train_index], X_train.iloc[val_index]\n",
    "    y_train_fold, y_val_fold = y_train.iloc[train_index], y_train.iloc[val_index]\n",
    "    \n",
    "    # Train the model on the training fold\n",
    "    catboost_model.fit(X_train_fold, y_train_fold)\n",
    "    \n",
    "    # Predict on the validation fold\n",
    "    y_pred = catboost_model.predict(X_val_fold)\n",
    "    y_pred_proba = catboost_model.predict_proba(X_val_fold)[:, 1]\n",
    "    \n",
    "    # Compute metrics for the validation fold\n",
    "    cv_auc.append(roc_auc_score(y_val_fold, y_pred_proba))\n",
    "    cv_precision.append(precision_score(y_val_fold, y_pred))\n",
    "    cv_recall.append(recall_score(y_val_fold, y_pred))\n",
    "    cv_f1.append(f1_score(y_val_fold, y_pred))\n",
    "    cv_balanced_acc.append(balanced_accuracy_score(y_val_fold, y_pred))\n",
    "    cv_gmean.append(geometric_mean_score(y_val_fold, y_pred))\n",
    "\n",
    "# Compute mean and standard deviation of cross-validation metrics\n",
    "cv_results = {\n",
    "    \"Metric\": [\"AUC\", \"Precision\", \"Recall\", \"F1 Score\", \"Balanced Accuracy\", \"Geometric Mean\"],\n",
    "    \"Mean\": [\n",
    "        np.mean(cv_auc),\n",
    "        np.mean(cv_precision),\n",
    "        np.mean(cv_recall),\n",
    "        np.mean(cv_f1),\n",
    "        np.mean(cv_balanced_acc),\n",
    "        np.mean(cv_gmean),\n",
    "    ],\n",
    "    \"Standard Deviation\": [\n",
    "        np.std(cv_auc),\n",
    "        np.std(cv_precision),\n",
    "        np.std(cv_recall),\n",
    "        np.std(cv_f1),\n",
    "        np.std(cv_balanced_acc),\n",
    "        np.std(cv_gmean),\n",
    "    ],\n",
    "}\n",
    "\n",
    "# Create a DataFrame for the CV metrics\n",
    "catboost_cv_results_df = pd.DataFrame(cv_results)\n",
    "\n",
    "# Display the table\n",
    "print(\"\\nCross-Validation Metrics (CatBoost):\")\n",
    "print(catboost_cv_results_df)"
   ]
  },
  {
   "cell_type": "code",
   "execution_count": 27,
   "id": "fe79ea97-1a71-4418-9739-c4390e893756",
   "metadata": {},
   "outputs": [
    {
     "name": "stdout",
     "output_type": "stream",
     "text": [
      "\n",
      "Test Set Metrics (CatBoost):\n",
      "              Metric     Value\n",
      "0                AUC  0.821682\n",
      "1          Precision  0.483810\n",
      "2             Recall  0.729885\n",
      "3           F1 Score  0.581901\n",
      "4  Balanced Accuracy  0.736992\n",
      "5     Geometric Mean  0.736957\n"
     ]
    }
   ],
   "source": [
    "# Train the model on the entire training set\n",
    "catboost_model.fit(X_train, y_train)\n",
    "\n",
    "# Predict on the test set\n",
    "y_test_pred = catboost_model.predict(X_test)\n",
    "y_test_pred_proba = catboost_model.predict_proba(X_test)[:, 1]\n",
    "\n",
    "# Compute metrics for the test set\n",
    "test_auc = roc_auc_score(y_test, y_test_pred_proba)\n",
    "test_precision = precision_score(y_test, y_test_pred)\n",
    "test_recall = recall_score(y_test, y_test_pred)\n",
    "test_f1 = f1_score(y_test, y_test_pred)\n",
    "test_balanced_acc = balanced_accuracy_score(y_test, y_test_pred)\n",
    "test_gmean = geometric_mean_score(y_test, y_test_pred)\n",
    "\n",
    "# Store the test metrics in a DataFrame\n",
    "test_results = {\n",
    "    \"Metric\": [\"AUC\", \"Precision\", \"Recall\", \"F1 Score\", \"Balanced Accuracy\", \"Geometric Mean\"],\n",
    "    \"Value\": [test_auc, test_precision, test_recall, test_f1, test_balanced_acc, test_gmean]\n",
    "}\n",
    "\n",
    "catboost_test_results_df = pd.DataFrame(test_results)\n",
    "\n",
    "# Display the table\n",
    "print(\"\\nTest Set Metrics (CatBoost):\")\n",
    "print(catboost_test_results_df)"
   ]
  },
  {
   "cell_type": "code",
   "execution_count": 28,
   "id": "36571e28-8b61-4fe8-966c-b0274c2693fd",
   "metadata": {},
   "outputs": [
    {
     "data": {
      "image/png": "[encoded data removed]",
      "text/plain": [
       "<Figure size 800x600 with 2 Axes>"
      ]
     },
     "metadata": {},
     "output_type": "display_data"
    }
   ],
   "source": [
    "# Compute the confusion matrix\n",
    "test_cm = confusion_matrix(y_test, y_test_pred)\n",
    "\n",
    "# Plot the confusion matrix with a blue theme\n",
    "plt.figure(figsize=(8, 6))\n",
    "sns.heatmap(test_cm, annot=True, fmt='d', cmap='Blues', xticklabels=['No Churn', 'Churn'], yticklabels=['No Churn', 'Churn'])\n",
    "plt.xlabel('Predicted Label')\n",
    "plt.ylabel('True Label')\n",
    "plt.title('Confusion Matrix (CatBoost Test Set)')\n",
    "plt.show()"
   ]
  },
  {
   "cell_type": "markdown",
   "id": "bb1b443f-a8da-4404-b776-5c6bd63eeb7b",
   "metadata": {},
   "source": [
    "# CatBoost without data precprocessing"
   ]
  },
  {
   "cell_type": "code",
   "execution_count": null,
   "id": "3d696b59-e6fb-4549-a37c-1fc61d8d705b",
   "metadata": {},
   "outputs": [
    {
     "ename": "FileNotFoundError",
     "evalue": "[Errno 2] No such file or directory: 'C:\\\\Users\\\\Dani Alex Parayil\\\\Downloads\\\\MLProject\\\\WA_Fn-UseC_-Telco-Customer-Churn.csv'",
     "output_type": "error",
     "traceback": [
      "\u001b[1;31m---------------------------------------------------------------------------\u001b[0m",
      "\u001b[1;31mFileNotFoundError\u001b[0m                         Traceback (most recent call last)",
      "Cell \u001b[1;32mIn[29], line 2\u001b[0m\n\u001b[0;32m      1\u001b[0m \u001b[38;5;66;03m#CatBoost without data processing\u001b[39;00m\n\u001b[1;32m----> 2\u001b[0m raw_data \u001b[38;5;241m=\u001b[39m pd\u001b[38;5;241m.\u001b[39mread_csv(\u001b[38;5;124m'\u001b[39m\u001b[38;5;124mC:\u001b[39m\u001b[38;5;130;01m\\\\\u001b[39;00m\u001b[38;5;124mUsers\u001b[39m\u001b[38;5;130;01m\\\\\u001b[39;00m\u001b[38;5;124mDani Alex Parayil\u001b[39m\u001b[38;5;130;01m\\\\\u001b[39;00m\u001b[38;5;124mDownloads\u001b[39m\u001b[38;5;130;01m\\\\\u001b[39;00m\u001b[38;5;124mMLProject\u001b[39m\u001b[38;5;130;01m\\\\\u001b[39;00m\u001b[38;5;124mWA_Fn-UseC_-Telco-Customer-Churn.csv\u001b[39m\u001b[38;5;124m'\u001b[39m)\n\u001b[0;32m      3\u001b[0m raw_data[\u001b[38;5;124m\"\u001b[39m\u001b[38;5;124mTotalCharges\u001b[39m\u001b[38;5;124m\"\u001b[39m] \u001b[38;5;241m=\u001b[39m data[\u001b[38;5;124m\"\u001b[39m\u001b[38;5;124mTotalCharges\u001b[39m\u001b[38;5;124m\"\u001b[39m]\u001b[38;5;241m.\u001b[39mreplace(\u001b[38;5;124m\"\u001b[39m\u001b[38;5;124m \u001b[39m\u001b[38;5;124m\"\u001b[39m,\u001b[38;5;124m\"\u001b[39m\u001b[38;5;124m0\u001b[39m\u001b[38;5;124m\"\u001b[39m)\n\u001b[0;32m      4\u001b[0m raw_data[\u001b[38;5;124m\"\u001b[39m\u001b[38;5;124mTotalCharges\u001b[39m\u001b[38;5;124m\"\u001b[39m] \u001b[38;5;241m=\u001b[39m data[\u001b[38;5;124m\"\u001b[39m\u001b[38;5;124mTotalCharges\u001b[39m\u001b[38;5;124m\"\u001b[39m]\u001b[38;5;241m.\u001b[39mastype(\u001b[38;5;124m\"\u001b[39m\u001b[38;5;124mfloat\u001b[39m\u001b[38;5;124m\"\u001b[39m)\n",
      "File \u001b[1;32mc:\\Users\\semal\\anaconda3\\Lib\\site-packages\\pandas\\io\\parsers\\readers.py:1026\u001b[0m, in \u001b[0;36mread_csv\u001b[1;34m(filepath_or_buffer, sep, delimiter, header, names, index_col, usecols, dtype, engine, converters, true_values, false_values, skipinitialspace, skiprows, skipfooter, nrows, na_values, keep_default_na, na_filter, verbose, skip_blank_lines, parse_dates, infer_datetime_format, keep_date_col, date_parser, date_format, dayfirst, cache_dates, iterator, chunksize, compression, thousands, decimal, lineterminator, quotechar, quoting, doublequote, escapechar, comment, encoding, encoding_errors, dialect, on_bad_lines, delim_whitespace, low_memory, memory_map, float_precision, storage_options, dtype_backend)\u001b[0m\n\u001b[0;32m   1013\u001b[0m kwds_defaults \u001b[38;5;241m=\u001b[39m _refine_defaults_read(\n\u001b[0;32m   1014\u001b[0m     dialect,\n\u001b[0;32m   1015\u001b[0m     delimiter,\n\u001b[1;32m   (...)\u001b[0m\n\u001b[0;32m   1022\u001b[0m     dtype_backend\u001b[38;5;241m=\u001b[39mdtype_backend,\n\u001b[0;32m   1023\u001b[0m )\n\u001b[0;32m   1024\u001b[0m kwds\u001b[38;5;241m.\u001b[39mupdate(kwds_defaults)\n\u001b[1;32m-> 1026\u001b[0m \u001b[38;5;28;01mreturn\u001b[39;00m _read(filepath_or_buffer, kwds)\n",
      "File \u001b[1;32mc:\\Users\\semal\\anaconda3\\Lib\\site-packages\\pandas\\io\\parsers\\readers.py:620\u001b[0m, in \u001b[0;36m_read\u001b[1;34m(filepath_or_buffer, kwds)\u001b[0m\n\u001b[0;32m    617\u001b[0m _validate_names(kwds\u001b[38;5;241m.\u001b[39mget(\u001b[38;5;124m\"\u001b[39m\u001b[38;5;124mnames\u001b[39m\u001b[38;5;124m\"\u001b[39m, \u001b[38;5;28;01mNone\u001b[39;00m))\n\u001b[0;32m    619\u001b[0m \u001b[38;5;66;03m# Create the parser.\u001b[39;00m\n\u001b[1;32m--> 620\u001b[0m parser \u001b[38;5;241m=\u001b[39m TextFileReader(filepath_or_buffer, \u001b[38;5;241m*\u001b[39m\u001b[38;5;241m*\u001b[39mkwds)\n\u001b[0;32m    622\u001b[0m \u001b[38;5;28;01mif\u001b[39;00m chunksize \u001b[38;5;129;01mor\u001b[39;00m iterator:\n\u001b[0;32m    623\u001b[0m     \u001b[38;5;28;01mreturn\u001b[39;00m parser\n",
      "File \u001b[1;32mc:\\Users\\semal\\anaconda3\\Lib\\site-packages\\pandas\\io\\parsers\\readers.py:1620\u001b[0m, in \u001b[0;36mTextFileReader.__init__\u001b[1;34m(self, f, engine, **kwds)\u001b[0m\n\u001b[0;32m   1617\u001b[0m     \u001b[38;5;28mself\u001b[39m\u001b[38;5;241m.\u001b[39moptions[\u001b[38;5;124m\"\u001b[39m\u001b[38;5;124mhas_index_names\u001b[39m\u001b[38;5;124m\"\u001b[39m] \u001b[38;5;241m=\u001b[39m kwds[\u001b[38;5;124m\"\u001b[39m\u001b[38;5;124mhas_index_names\u001b[39m\u001b[38;5;124m\"\u001b[39m]\n\u001b[0;32m   1619\u001b[0m \u001b[38;5;28mself\u001b[39m\u001b[38;5;241m.\u001b[39mhandles: IOHandles \u001b[38;5;241m|\u001b[39m \u001b[38;5;28;01mNone\u001b[39;00m \u001b[38;5;241m=\u001b[39m \u001b[38;5;28;01mNone\u001b[39;00m\n\u001b[1;32m-> 1620\u001b[0m \u001b[38;5;28mself\u001b[39m\u001b[38;5;241m.\u001b[39m_engine \u001b[38;5;241m=\u001b[39m \u001b[38;5;28mself\u001b[39m\u001b[38;5;241m.\u001b[39m_make_engine(f, \u001b[38;5;28mself\u001b[39m\u001b[38;5;241m.\u001b[39mengine)\n",
      "File \u001b[1;32mc:\\Users\\semal\\anaconda3\\Lib\\site-packages\\pandas\\io\\parsers\\readers.py:1880\u001b[0m, in \u001b[0;36mTextFileReader._make_engine\u001b[1;34m(self, f, engine)\u001b[0m\n\u001b[0;32m   1878\u001b[0m     \u001b[38;5;28;01mif\u001b[39;00m \u001b[38;5;124m\"\u001b[39m\u001b[38;5;124mb\u001b[39m\u001b[38;5;124m\"\u001b[39m \u001b[38;5;129;01mnot\u001b[39;00m \u001b[38;5;129;01min\u001b[39;00m mode:\n\u001b[0;32m   1879\u001b[0m         mode \u001b[38;5;241m+\u001b[39m\u001b[38;5;241m=\u001b[39m \u001b[38;5;124m\"\u001b[39m\u001b[38;5;124mb\u001b[39m\u001b[38;5;124m\"\u001b[39m\n\u001b[1;32m-> 1880\u001b[0m \u001b[38;5;28mself\u001b[39m\u001b[38;5;241m.\u001b[39mhandles \u001b[38;5;241m=\u001b[39m get_handle(\n\u001b[0;32m   1881\u001b[0m     f,\n\u001b[0;32m   1882\u001b[0m     mode,\n\u001b[0;32m   1883\u001b[0m     encoding\u001b[38;5;241m=\u001b[39m\u001b[38;5;28mself\u001b[39m\u001b[38;5;241m.\u001b[39moptions\u001b[38;5;241m.\u001b[39mget(\u001b[38;5;124m\"\u001b[39m\u001b[38;5;124mencoding\u001b[39m\u001b[38;5;124m\"\u001b[39m, \u001b[38;5;28;01mNone\u001b[39;00m),\n\u001b[0;32m   1884\u001b[0m     compression\u001b[38;5;241m=\u001b[39m\u001b[38;5;28mself\u001b[39m\u001b[38;5;241m.\u001b[39moptions\u001b[38;5;241m.\u001b[39mget(\u001b[38;5;124m\"\u001b[39m\u001b[38;5;124mcompression\u001b[39m\u001b[38;5;124m\"\u001b[39m, \u001b[38;5;28;01mNone\u001b[39;00m),\n\u001b[0;32m   1885\u001b[0m     memory_map\u001b[38;5;241m=\u001b[39m\u001b[38;5;28mself\u001b[39m\u001b[38;5;241m.\u001b[39moptions\u001b[38;5;241m.\u001b[39mget(\u001b[38;5;124m\"\u001b[39m\u001b[38;5;124mmemory_map\u001b[39m\u001b[38;5;124m\"\u001b[39m, \u001b[38;5;28;01mFalse\u001b[39;00m),\n\u001b[0;32m   1886\u001b[0m     is_text\u001b[38;5;241m=\u001b[39mis_text,\n\u001b[0;32m   1887\u001b[0m     errors\u001b[38;5;241m=\u001b[39m\u001b[38;5;28mself\u001b[39m\u001b[38;5;241m.\u001b[39moptions\u001b[38;5;241m.\u001b[39mget(\u001b[38;5;124m\"\u001b[39m\u001b[38;5;124mencoding_errors\u001b[39m\u001b[38;5;124m\"\u001b[39m, \u001b[38;5;124m\"\u001b[39m\u001b[38;5;124mstrict\u001b[39m\u001b[38;5;124m\"\u001b[39m),\n\u001b[0;32m   1888\u001b[0m     storage_options\u001b[38;5;241m=\u001b[39m\u001b[38;5;28mself\u001b[39m\u001b[38;5;241m.\u001b[39moptions\u001b[38;5;241m.\u001b[39mget(\u001b[38;5;124m\"\u001b[39m\u001b[38;5;124mstorage_options\u001b[39m\u001b[38;5;124m\"\u001b[39m, \u001b[38;5;28;01mNone\u001b[39;00m),\n\u001b[0;32m   1889\u001b[0m )\n\u001b[0;32m   1890\u001b[0m \u001b[38;5;28;01massert\u001b[39;00m \u001b[38;5;28mself\u001b[39m\u001b[38;5;241m.\u001b[39mhandles \u001b[38;5;129;01mis\u001b[39;00m \u001b[38;5;129;01mnot\u001b[39;00m \u001b[38;5;28;01mNone\u001b[39;00m\n\u001b[0;32m   1891\u001b[0m f \u001b[38;5;241m=\u001b[39m \u001b[38;5;28mself\u001b[39m\u001b[38;5;241m.\u001b[39mhandles\u001b[38;5;241m.\u001b[39mhandle\n",
      "File \u001b[1;32mc:\\Users\\semal\\anaconda3\\Lib\\site-packages\\pandas\\io\\common.py:873\u001b[0m, in \u001b[0;36mget_handle\u001b[1;34m(path_or_buf, mode, encoding, compression, memory_map, is_text, errors, storage_options)\u001b[0m\n\u001b[0;32m    868\u001b[0m \u001b[38;5;28;01melif\u001b[39;00m \u001b[38;5;28misinstance\u001b[39m(handle, \u001b[38;5;28mstr\u001b[39m):\n\u001b[0;32m    869\u001b[0m     \u001b[38;5;66;03m# Check whether the filename is to be opened in binary mode.\u001b[39;00m\n\u001b[0;32m    870\u001b[0m     \u001b[38;5;66;03m# Binary mode does not support 'encoding' and 'newline'.\u001b[39;00m\n\u001b[0;32m    871\u001b[0m     \u001b[38;5;28;01mif\u001b[39;00m ioargs\u001b[38;5;241m.\u001b[39mencoding \u001b[38;5;129;01mand\u001b[39;00m \u001b[38;5;124m\"\u001b[39m\u001b[38;5;124mb\u001b[39m\u001b[38;5;124m\"\u001b[39m \u001b[38;5;129;01mnot\u001b[39;00m \u001b[38;5;129;01min\u001b[39;00m ioargs\u001b[38;5;241m.\u001b[39mmode:\n\u001b[0;32m    872\u001b[0m         \u001b[38;5;66;03m# Encoding\u001b[39;00m\n\u001b[1;32m--> 873\u001b[0m         handle \u001b[38;5;241m=\u001b[39m \u001b[38;5;28mopen\u001b[39m(\n\u001b[0;32m    874\u001b[0m             handle,\n\u001b[0;32m    875\u001b[0m             ioargs\u001b[38;5;241m.\u001b[39mmode,\n\u001b[0;32m    876\u001b[0m             encoding\u001b[38;5;241m=\u001b[39mioargs\u001b[38;5;241m.\u001b[39mencoding,\n\u001b[0;32m    877\u001b[0m             errors\u001b[38;5;241m=\u001b[39merrors,\n\u001b[0;32m    878\u001b[0m             newline\u001b[38;5;241m=\u001b[39m\u001b[38;5;124m\"\u001b[39m\u001b[38;5;124m\"\u001b[39m,\n\u001b[0;32m    879\u001b[0m         )\n\u001b[0;32m    880\u001b[0m     \u001b[38;5;28;01melse\u001b[39;00m:\n\u001b[0;32m    881\u001b[0m         \u001b[38;5;66;03m# Binary mode\u001b[39;00m\n\u001b[0;32m    882\u001b[0m         handle \u001b[38;5;241m=\u001b[39m \u001b[38;5;28mopen\u001b[39m(handle, ioargs\u001b[38;5;241m.\u001b[39mmode)\n",
      "\u001b[1;31mFileNotFoundError\u001b[0m: [Errno 2] No such file or directory: 'C:\\\\Users\\\\Dani Alex Parayil\\\\Downloads\\\\MLProject\\\\WA_Fn-UseC_-Telco-Customer-Churn.csv'"
     ]
    }
   ],
   "source": [
    "#CatBoost without data processing\n",
    "raw_data = pd.read_csv('Customer Churn Dataset.csv')\n",
    "raw_data[\"TotalCharges\"] = data[\"TotalCharges\"].replace(\" \",\"0\")\n",
    "raw_data[\"TotalCharges\"] = data[\"TotalCharges\"].astype(\"float\")\n",
    "raw_data.head()\n",
    "X_raw = raw_data.drop(columns=['Churn','customerID'])\n",
    "y_raw = raw_data['Churn']\n",
    "# Convert y_raw to numeric\n",
    "y_raw = y_raw.map({\"Yes\": 1, \"No\": 0})\n",
    "X_raw.head()"
   ]
  },
  {
   "cell_type": "code",
   "execution_count": null,
   "id": "313021bc-0c61-4a9d-85ee-4ca3bf64a629",
   "metadata": {},
   "outputs": [],
   "source": [
    "# Separate the data into training and testing sets\n",
    "X_train_raw, X_test_raw, y_train_raw, y_test_raw = train_test_split(X_raw, y_raw, test_size=0.2, random_state=50)"
   ]
  },
  {
   "cell_type": "code",
   "execution_count": null,
   "id": "e197a952-06e2-4aaf-aeec-faf1ac00cf6a",
   "metadata": {},
   "outputs": [],
   "source": [
    "from catboost import CatBoostClassifier\n",
    "\n",
    "# Detect categorical variables\n",
    "categorical_features = X_raw.select_dtypes(include=['object']).columns.tolist()\n",
    "\n",
    "# Initialize the CatBoost model\n",
    "catboost_model_raw = CatBoostClassifier(\n",
    "    iterations=500,\n",
    "    depth=6,\n",
    "    learning_rate=0.1,\n",
    "    loss_function='Logloss',\n",
    "    verbose=0,\n",
    "    random_seed=50,\n",
    "    class_weights=[1, len(y_raw) / sum(y_raw)],  # Adjust class imbalance\n",
    "    cat_features=categorical_features\n",
    ")"
   ]
  },
  {
   "cell_type": "code",
   "execution_count": null,
   "id": "a735cafb-7a35-4138-b51a-23d25bdd7cd5",
   "metadata": {},
   "outputs": [
    {
     "name": "stdout",
     "output_type": "stream",
     "text": [
      "\n",
      "Cross-Validation Metrics (CatBoost with Categorical Features):\n",
      "              Metric      Mean  Standard Deviation\n",
      "0                AUC  0.834517            0.018835\n",
      "1          Precision  0.529391            0.026417\n",
      "2             Recall  0.743439            0.052117\n",
      "3           F1 Score  0.617321            0.026153\n",
      "4  Balanced Accuracy  0.751107            0.022683\n",
      "5     Geometric Mean  0.750217            0.022886\n"
     ]
    }
   ],
   "source": [
    "# Cross-Validation Metrics\n",
    "cv_auc, cv_precision, cv_recall, cv_f1, cv_balanced_acc, cv_gmean = [], [], [], [], [], []\n",
    "\n",
    "# Perform Stratified K-Fold Cross-Validation\n",
    "k = 10\n",
    "skf = StratifiedKFold(n_splits=k, shuffle=True, random_state=50)\n",
    "\n",
    "for train_index, val_index in skf.split(X_train_raw, y_train_raw):\n",
    "    X_train_fold = X_train_raw.iloc[train_index]\n",
    "    X_val_fold = X_train_raw.iloc[val_index]\n",
    "    y_train_fold = y_train_raw.iloc[train_index]\n",
    "    y_val_fold = y_train_raw.iloc[val_index]\n",
    "    \n",
    "    # Train the model on the training fold\n",
    "    catboost_model_raw.fit(X_train_fold, y_train_fold, cat_features=categorical_features)\n",
    "    \n",
    "    # Predict on the validation fold\n",
    "    y_pred = catboost_model_raw.predict(X_val_fold)\n",
    "    y_pred_proba = catboost_model_raw.predict_proba(X_val_fold)[:, 1]\n",
    "    \n",
    "    # Compute metrics for the validation fold\n",
    "    cv_auc.append(roc_auc_score(y_val_fold, y_pred_proba))\n",
    "    cv_precision.append(precision_score(y_val_fold, y_pred))\n",
    "    cv_recall.append(recall_score(y_val_fold, y_pred))\n",
    "    cv_f1.append(f1_score(y_val_fold, y_pred))\n",
    "    cv_balanced_acc.append(balanced_accuracy_score(y_val_fold, y_pred))\n",
    "    cv_gmean.append(geometric_mean_score(y_val_fold, y_pred))\n",
    "\n",
    "# Compute mean and standard deviation of cross-validation metrics\n",
    "cv_results = {\n",
    "    \"Metric\": [\"AUC\", \"Precision\", \"Recall\", \"F1 Score\", \"Balanced Accuracy\", \"Geometric Mean\"],\n",
    "    \"Mean\": [\n",
    "        np.mean(cv_auc),\n",
    "        np.mean(cv_precision),\n",
    "        np.mean(cv_recall),\n",
    "        np.mean(cv_f1),\n",
    "        np.mean(cv_balanced_acc),\n",
    "        np.mean(cv_gmean),\n",
    "    ],\n",
    "    \"Standard Deviation\": [\n",
    "        np.std(cv_auc),\n",
    "        np.std(cv_precision),\n",
    "        np.std(cv_recall),\n",
    "        np.std(cv_f1),\n",
    "        np.std(cv_balanced_acc),\n",
    "        np.std(cv_gmean),\n",
    "    ],\n",
    "}\n",
    "\n",
    "# Create a DataFrame for the CV metrics\n",
    "catboost_cv_results_df = pd.DataFrame(cv_results)\n",
    "\n",
    "# Display the CV metrics table\n",
    "print(\"\\nCross-Validation Metrics (CatBoost with Categorical Features):\")\n",
    "print(catboost_cv_results_df)"
   ]
  },
  {
   "cell_type": "code",
   "execution_count": null,
   "id": "69892b13-17ec-4467-a87a-c494dd06c901",
   "metadata": {},
   "outputs": [
    {
     "name": "stdout",
     "output_type": "stream",
     "text": [
      "\n",
      "Test Set Metrics (CatBoost with Categorical Features):\n",
      "              Metric     Value\n",
      "0                AUC  0.834825\n",
      "1          Precision  0.525097\n",
      "2             Recall  0.739130\n",
      "3           F1 Score  0.613995\n",
      "4  Balanced Accuracy  0.751410\n",
      "5     Geometric Mean  0.751309\n"
     ]
    }
   ],
   "source": [
    "#Test Set Evaluation\n",
    "# Train the model on the entire training set\n",
    "catboost_model_raw.fit(X_train_raw, y_train_raw, cat_features=categorical_features)\n",
    "\n",
    "# Predict on the test set\n",
    "y_test_pred = catboost_model_raw.predict(X_test_raw)\n",
    "y_test_pred_proba = catboost_model_raw.predict_proba(X_test_raw)[:, 1]\n",
    "\n",
    "# Compute metrics for the test set\n",
    "test_auc = roc_auc_score(y_test_raw, y_test_pred_proba)\n",
    "test_precision = precision_score(y_test_raw, y_test_pred)\n",
    "test_recall = recall_score(y_test_raw, y_test_pred)\n",
    "test_f1 = f1_score(y_test_raw, y_test_pred)\n",
    "test_balanced_acc = balanced_accuracy_score(y_test_raw, y_test_pred)\n",
    "test_gmean = geometric_mean_score(y_test_raw, y_test_pred)\n",
    "\n",
    "# Store the test metrics in a DataFrame\n",
    "test_results = {\n",
    "    \"Metric\": [\"AUC\", \"Precision\", \"Recall\", \"F1 Score\", \"Balanced Accuracy\", \"Geometric Mean\"],\n",
    "    \"Value\": [test_auc, test_precision, test_recall, test_f1, test_balanced_acc, test_gmean]\n",
    "}\n",
    "\n",
    "catboost_test_results_df = pd.DataFrame(test_results)\n",
    "\n",
    "# Display the test set metrics table\n",
    "print(\"\\nTest Set Metrics (CatBoost with Categorical Features):\")\n",
    "print(catboost_test_results_df)"
   ]
  },
  {
   "cell_type": "code",
   "execution_count": null,
   "id": "58d7b125-5501-4da8-931c-57c7d08efa13",
   "metadata": {},
   "outputs": [
    {
     "data": {
      "image/png": "[encoded data removed]",
      "text/plain": [
       "<Figure size 800x600 with 2 Axes>"
      ]
     },
     "metadata": {},
     "output_type": "display_data"
    }
   ],
   "source": [
    "# Compute the confusion matrix\n",
    "test_cm = confusion_matrix(y_test_raw, y_test_pred)\n",
    "\n",
    "# Plot the confusion matrix with a blue theme\n",
    "plt.figure(figsize=(8, 6))\n",
    "sns.heatmap(test_cm, annot=True, fmt='d', cmap='Blues', xticklabels=['No Churn', 'Churn'], yticklabels=['No Churn', 'Churn'])\n",
    "plt.xlabel('Predicted Label')\n",
    "plt.ylabel('True Label')\n",
    "plt.title('Confusion Matrix (CatBoost Test Set with Categorical Features)')\n",
    "plt.show()"
   ]
  },
  {
   "cell_type": "markdown",
   "id": "a5aa5b22-10c2-42b3-a3bb-854c21c86164",
   "metadata": {},
   "source": [
    "# AdaBoost with CV"
   ]
  },
  {
   "cell_type": "code",
   "execution_count": null,
   "id": "5390744a-028b-4b34-91b1-21c2368e8c89",
   "metadata": {},
   "outputs": [],
   "source": [
    "from sklearn.ensemble import AdaBoostClassifier\n",
    "\n",
    "# Initializing the AdaBoost model\n",
    "adaboost_model = AdaBoostClassifier(n_estimators=100, random_state=50)"
   ]
  },
  {
   "cell_type": "code",
   "execution_count": null,
   "id": "4847b3d8-609d-4fbf-80d5-76ebfeb65c58",
   "metadata": {},
   "outputs": [
    {
     "name": "stdout",
     "output_type": "stream",
     "text": [
      "\n",
      "Cross-Validation Metrics (AdaBoost):\n",
      "              Metric      Mean  Standard Deviation\n",
      "0                AUC  0.846827            0.015591\n",
      "1          Precision  0.656412            0.029244\n",
      "2             Recall  0.541813            0.043609\n",
      "3           F1 Score  0.592811            0.033525\n",
      "4  Balanced Accuracy  0.718275            0.021352\n",
      "5     Geometric Mean  0.695614            0.027819\n"
     ]
    }
   ],
   "source": [
    "# Step 1: Cross-Validation Metrics\n",
    "cv_auc, cv_precision, cv_recall, cv_f1, cv_balanced_acc, cv_gmean = [], [], [], [], [], []\n",
    "\n",
    "# Perform Stratified K-Fold Cross-Validation\n",
    "k = 10\n",
    "skf = StratifiedKFold(n_splits=k, shuffle=True, random_state=50)\n",
    "\n",
    "for train_index, val_index in skf.split(X_train, y_train):\n",
    "    X_train_fold, X_val_fold = X_train.iloc[train_index], X_train.iloc[val_index]\n",
    "    y_train_fold, y_val_fold = y_train.iloc[train_index], y_train.iloc[val_index]\n",
    "    \n",
    "    # Train the model on the training fold\n",
    "    adaboost_model.fit(X_train_fold, y_train_fold)\n",
    "    \n",
    "    # Predict on the validation fold\n",
    "    y_pred = adaboost_model.predict(X_val_fold)\n",
    "    y_pred_proba = adaboost_model.predict_proba(X_val_fold)[:, 1]\n",
    "    \n",
    "    # Compute metrics for the validation fold\n",
    "    cv_auc.append(roc_auc_score(y_val_fold, y_pred_proba))\n",
    "    cv_precision.append(precision_score(y_val_fold, y_pred))\n",
    "    cv_recall.append(recall_score(y_val_fold, y_pred))\n",
    "    cv_f1.append(f1_score(y_val_fold, y_pred))\n",
    "    cv_balanced_acc.append(balanced_accuracy_score(y_val_fold, y_pred))\n",
    "    cv_gmean.append(geometric_mean_score(y_val_fold, y_pred))\n",
    "\n",
    "# Compute mean and standard deviation of cross-validation metrics\n",
    "cv_results = {\n",
    "    \"Metric\": [\"AUC\", \"Precision\", \"Recall\", \"F1 Score\", \"Balanced Accuracy\", \"Geometric Mean\"],\n",
    "    \"Mean\": [\n",
    "        np.mean(cv_auc),\n",
    "        np.mean(cv_precision),\n",
    "        np.mean(cv_recall),\n",
    "        np.mean(cv_f1),\n",
    "        np.mean(cv_balanced_acc),\n",
    "        np.mean(cv_gmean),\n",
    "    ],\n",
    "    \"Standard Deviation\": [\n",
    "        np.std(cv_auc),\n",
    "        np.std(cv_precision),\n",
    "        np.std(cv_recall),\n",
    "        np.std(cv_f1),\n",
    "        np.std(cv_balanced_acc),\n",
    "        np.std(cv_gmean),\n",
    "    ],\n",
    "}\n",
    "\n",
    "# Create a DataFrame for the CV metrics\n",
    "adaboost_cv_results_df = pd.DataFrame(cv_results)\n",
    "\n",
    "# Display the CV metrics table\n",
    "print(\"\\nCross-Validation Metrics (AdaBoost):\")\n",
    "print(adaboost_cv_results_df)"
   ]
  },
  {
   "cell_type": "code",
   "execution_count": null,
   "id": "fe66defa-a19a-4669-a118-8235edefa3b8",
   "metadata": {},
   "outputs": [
    {
     "name": "stdout",
     "output_type": "stream",
     "text": [
      "\n",
      "Test Set Metrics (AdaBoost):\n",
      "              Metric     Value\n",
      "0                AUC  0.840557\n",
      "1          Precision  0.634615\n",
      "2             Recall  0.568966\n",
      "3           F1 Score  0.600000\n",
      "4  Balanced Accuracy  0.730658\n",
      "5     Geometric Mean  0.712543\n"
     ]
    }
   ],
   "source": [
    "# Step 2: Test Set Evaluation\n",
    "# Train the model on the entire training set\n",
    "adaboost_model.fit(X_train, y_train)\n",
    "\n",
    "# Predict on the test set\n",
    "y_test_pred = adaboost_model.predict(X_test)\n",
    "y_test_pred_proba = adaboost_model.predict_proba(X_test)[:, 1]\n",
    "\n",
    "# Compute metrics for the test set\n",
    "test_auc = roc_auc_score(y_test, y_test_pred_proba)\n",
    "test_precision = precision_score(y_test, y_test_pred)\n",
    "test_recall = recall_score(y_test, y_test_pred)\n",
    "test_f1 = f1_score(y_test, y_test_pred)\n",
    "test_balanced_acc = balanced_accuracy_score(y_test, y_test_pred)\n",
    "test_gmean = geometric_mean_score(y_test, y_test_pred)\n",
    "\n",
    "# Store the test metrics in a DataFrame\n",
    "test_results = {\n",
    "    \"Metric\": [\"AUC\", \"Precision\", \"Recall\", \"F1 Score\", \"Balanced Accuracy\", \"Geometric Mean\"],\n",
    "    \"Value\": [test_auc, test_precision, test_recall, test_f1, test_balanced_acc, test_gmean]\n",
    "}\n",
    "\n",
    "adaboost_test_results_df = pd.DataFrame(test_results)\n",
    "\n",
    "# Display the test set metrics table\n",
    "print(\"\\nTest Set Metrics (AdaBoost):\")\n",
    "print(adaboost_test_results_df)"
   ]
  },
  {
   "cell_type": "code",
   "execution_count": null,
   "id": "f9ad5718-e7a7-4df6-b9d9-45151517e611",
   "metadata": {},
   "outputs": [
    {
     "data": {
      "image/png": "[encoded data removed]",
      "text/plain": [
       "<Figure size 800x600 with 2 Axes>"
      ]
     },
     "metadata": {},
     "output_type": "display_data"
    }
   ],
   "source": [
    "# Step 3: Confusion Matrix\n",
    "# Compute the confusion matrix\n",
    "test_cm = confusion_matrix(y_test, y_test_pred)\n",
    "\n",
    "# Plot the confusion matrix with a blue theme\n",
    "plt.figure(figsize=(8, 6))\n",
    "sns.heatmap(test_cm, annot=True, fmt='d', cmap='Blues', xticklabels=['No Churn', 'Churn'], yticklabels=['No Churn', 'Churn'])\n",
    "plt.xlabel('Predicted Label')\n",
    "plt.ylabel('True Label')\n",
    "plt.title('Confusion Matrix (AdaBoost Test Set)')\n",
    "plt.show()"
   ]
  },
  {
   "cell_type": "markdown",
   "id": "c56cc668-29a8-411b-907e-e5706411ab2f",
   "metadata": {},
   "source": [
    "# Gradient Boost with CV"
   ]
  },
  {
   "cell_type": "code",
   "execution_count": null,
   "id": "70432ad5-77dd-43b8-b0d7-b003084b7ec1",
   "metadata": {},
   "outputs": [],
   "source": [
    "from sklearn.ensemble import GradientBoostingClassifier\n",
    "\n",
    "# Initializing the Gradient Boosting model\n",
    "gb_model = GradientBoostingClassifier(\n",
    "    n_estimators=100, \n",
    "    learning_rate=0.1, \n",
    "    max_depth=3, \n",
    "    random_state=50\n",
    ")"
   ]
  },
  {
   "cell_type": "code",
   "execution_count": null,
   "id": "5e1cf15d-aff3-4bc4-82c6-2a7e16e692af",
   "metadata": {},
   "outputs": [
    {
     "name": "stdout",
     "output_type": "stream",
     "text": [
      "\n",
      "Cross-Validation Metrics (Gradient Boosting):\n",
      "              Metric      Mean  Standard Deviation\n",
      "0                AUC  0.848267            0.015196\n",
      "1          Precision  0.656221            0.035788\n",
      "2             Recall  0.526690            0.049636\n",
      "3           F1 Score  0.583384            0.040507\n",
      "4  Balanced Accuracy  0.712176            0.025169\n",
      "5     Geometric Mean  0.686760            0.032985\n"
     ]
    }
   ],
   "source": [
    "# Step 1: Cross-Validation Metrics\n",
    "cv_auc, cv_precision, cv_recall, cv_f1, cv_balanced_acc, cv_gmean = [], [], [], [], [], []\n",
    "\n",
    "# Perform Stratified K-Fold Cross-Validation\n",
    "k = 10\n",
    "skf = StratifiedKFold(n_splits=k, shuffle=True, random_state=50)\n",
    "\n",
    "for train_index, val_index in skf.split(X_train, y_train):\n",
    "    X_train_fold, X_val_fold = X_train.iloc[train_index], X_train.iloc[val_index]\n",
    "    y_train_fold, y_val_fold = y_train.iloc[train_index], y_train.iloc[val_index]\n",
    "    \n",
    "    # Train the model on the training fold\n",
    "    gb_model.fit(X_train_fold, y_train_fold)\n",
    "    \n",
    "    # Predict on the validation fold\n",
    "    y_pred = gb_model.predict(X_val_fold)\n",
    "    y_pred_proba = gb_model.predict_proba(X_val_fold)[:, 1]\n",
    "    \n",
    "    # Compute metrics for the validation fold\n",
    "    cv_auc.append(roc_auc_score(y_val_fold, y_pred_proba))\n",
    "    cv_precision.append(precision_score(y_val_fold, y_pred))\n",
    "    cv_recall.append(recall_score(y_val_fold, y_pred))\n",
    "    cv_f1.append(f1_score(y_val_fold, y_pred))\n",
    "    cv_balanced_acc.append(balanced_accuracy_score(y_val_fold, y_pred))\n",
    "    cv_gmean.append(geometric_mean_score(y_val_fold, y_pred))\n",
    "\n",
    "# Compute mean and standard deviation of cross-validation metrics\n",
    "cv_results = {\n",
    "    \"Metric\": [\"AUC\", \"Precision\", \"Recall\", \"F1 Score\", \"Balanced Accuracy\", \"Geometric Mean\"],\n",
    "    \"Mean\": [\n",
    "        np.mean(cv_auc),\n",
    "        np.mean(cv_precision),\n",
    "        np.mean(cv_recall),\n",
    "        np.mean(cv_f1),\n",
    "        np.mean(cv_balanced_acc),\n",
    "        np.mean(cv_gmean),\n",
    "    ],\n",
    "    \"Standard Deviation\": [\n",
    "        np.std(cv_auc),\n",
    "        np.std(cv_precision),\n",
    "        np.std(cv_recall),\n",
    "        np.std(cv_f1),\n",
    "        np.std(cv_balanced_acc),\n",
    "        np.std(cv_gmean),\n",
    "    ],\n",
    "}\n",
    "\n",
    "# Create a DataFrame for the CV metrics\n",
    "gb_cv_results_df = pd.DataFrame(cv_results)\n",
    "\n",
    "# Display the CV metrics table\n",
    "print(\"\\nCross-Validation Metrics (Gradient Boosting):\")\n",
    "print(gb_cv_results_df)"
   ]
  },
  {
   "cell_type": "code",
   "execution_count": null,
   "id": "ec815971-a234-4931-be3a-956e11e93569",
   "metadata": {},
   "outputs": [
    {
     "name": "stdout",
     "output_type": "stream",
     "text": [
      "\n",
      "Test Set Metrics (Gradient Boosting):\n",
      "              Metric     Value\n",
      "0                AUC  0.842658\n",
      "1          Precision  0.630719\n",
      "2             Recall  0.554598\n",
      "3           F1 Score  0.590214\n",
      "4  Balanced Accuracy  0.723947\n",
      "5     Geometric Mean  0.703861\n"
     ]
    }
   ],
   "source": [
    "# Step 2: Test Set Evaluation\n",
    "# Train the model on the entire training set\n",
    "gb_model.fit(X_train, y_train)\n",
    "\n",
    "# Predict on the test set\n",
    "y_test_pred = gb_model.predict(X_test)\n",
    "y_test_pred_proba = gb_model.predict_proba(X_test)[:, 1]\n",
    "\n",
    "# Compute metrics for the test set\n",
    "test_auc = roc_auc_score(y_test, y_test_pred_proba)\n",
    "test_precision = precision_score(y_test, y_test_pred)\n",
    "test_recall = recall_score(y_test, y_test_pred)\n",
    "test_f1 = f1_score(y_test, y_test_pred)\n",
    "test_balanced_acc = balanced_accuracy_score(y_test, y_test_pred)\n",
    "test_gmean = geometric_mean_score(y_test, y_test_pred)\n",
    "\n",
    "# Store the test metrics in a DataFrame\n",
    "test_results = {\n",
    "    \"Metric\": [\"AUC\", \"Precision\", \"Recall\", \"F1 Score\", \"Balanced Accuracy\", \"Geometric Mean\"],\n",
    "    \"Value\": [test_auc, test_precision, test_recall, test_f1, test_balanced_acc, test_gmean]\n",
    "}\n",
    "\n",
    "gb_test_results_df = pd.DataFrame(test_results)\n",
    "\n",
    "# Display the test set metrics table\n",
    "print(\"\\nTest Set Metrics (Gradient Boosting):\")\n",
    "print(gb_test_results_df)"
   ]
  },
  {
   "cell_type": "code",
   "execution_count": 31,
   "id": "6d6742cc-f5b5-47bc-bd73-41b4f0edb8f3",
   "metadata": {},
   "outputs": [
    {
     "data": {
      "image/png": "[encoded data removed]",
      "text/plain": [
       "<Figure size 800x600 with 2 Axes>"
      ]
     },
     "metadata": {},
     "output_type": "display_data"
    }
   ],
   "source": [
    "# Step 3: Confusion Matrix\n",
    "# Compute the confusion matrix\n",
    "test_cm = confusion_matrix(y_test, y_test_pred)\n",
    "\n",
    "# Plot the confusion matrix with a blue theme\n",
    "plt.figure(figsize=(8, 6))\n",
    "sns.heatmap(test_cm, annot=True, fmt='d', cmap='Blues', xticklabels=['No Churn', 'Churn'], yticklabels=['No Churn', 'Churn'])\n",
    "plt.xlabel('Predicted Label')\n",
    "plt.ylabel('True Label')\n",
    "plt.title('Confusion Matrix (Gradient Boosting Test Set)')\n",
    "plt.show()"
   ]
  }
 ],
 "metadata": {
  "kernelspec": {
   "display_name": "base",
   "language": "python",
   "name": "python3"
  },
  "language_info": {
   "codemirror_mode": {
    "name": "ipython",
    "version": 3
   },
   "file_extension": ".py",
   "mimetype": "text/x-python",
   "name": "python",
   "nbconvert_exporter": "python",
   "pygments_lexer": "ipython3",
   "version": "3.12.4"
  }
 },
 "nbformat": 4,
 "nbformat_minor": 5
}
